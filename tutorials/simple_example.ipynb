{
 "cells": [
  {
   "cell_type": "code",
   "execution_count": null,
   "metadata": {},
   "outputs": [
    {
     "name": "stderr",
     "output_type": "stream",
     "text": [
      "Version 0.1 of tpot is outdated. Version 1.0.0 was released Wednesday February 26, 2025.\n"
     ]
    },
    {
     "name": "stdout",
     "output_type": "stream",
     "text": [
      "                                                                            \n",
      "Generation 1 - Current best internal CV score: 0.8427159447547743\n",
      "                                                                            \n",
      "Generation 2 - Current best internal CV score: 0.8427159447547743\n",
      "                                                                            \n",
      "Generation 3 - Current best internal CV score: 0.8427159447547743\n",
      "Optimization Progress:  67%|██████▋   | 40/60 [00:04<00:01, 11.87pipeline/s]"
     ]
    }
   ],
   "source": [
    "from tpotclustering import TPOTClustering\n",
    "from sklearn.datasets import load_breast_cancer\n",
    "\n",
    "data = load_breast_cancer().data\n",
    "scoring = \"silhouette_score\"\n",
    "\n",
    "tpot_clustering = TPOTClustering(generations=5, population_size=10, verbosity=2, random_state=42, scoring=scoring)\n",
    "tpot_clustering.fit(data)\n",
    "print(tpot_clustering.score(data))\n",
    "tpot_clustering.export(f\"tpot_clustering_{scoring}.py\")"
   ]
  }
 ],
 "metadata": {
  "kernelspec": {
   "display_name": "Python 3",
   "language": "python",
   "name": "python3"
  },
  "language_info": {
   "codemirror_mode": {
    "name": "ipython",
    "version": 3
   },
   "file_extension": ".py",
   "mimetype": "text/x-python",
   "name": "python",
   "nbconvert_exporter": "python",
   "pygments_lexer": "ipython3",
   "version": "3.10.12"
  }
 },
 "nbformat": 4,
 "nbformat_minor": 2
}
