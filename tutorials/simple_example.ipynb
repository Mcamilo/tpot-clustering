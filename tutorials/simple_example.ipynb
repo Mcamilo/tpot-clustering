{
 "cells": [
  {
   "cell_type": "code",
   "execution_count": 2,
   "metadata": {},
   "outputs": [
    {
     "ename": "ModuleNotFoundError",
     "evalue": "No module named 'tpotclustering'",
     "output_type": "error",
     "traceback": [
      "\u001b[0;31m---------------------------------------------------------------------------\u001b[0m",
      "\u001b[0;31mModuleNotFoundError\u001b[0m                       Traceback (most recent call last)",
      "Cell \u001b[0;32mIn[2], line 1\u001b[0m\n\u001b[0;32m----> 1\u001b[0m \u001b[38;5;28;01mfrom\u001b[39;00m \u001b[38;5;21;01mtpotclustering\u001b[39;00m \u001b[38;5;28;01mimport\u001b[39;00m TPOTClustering\n\u001b[1;32m      2\u001b[0m \u001b[38;5;28;01mfrom\u001b[39;00m \u001b[38;5;21;01msklearn\u001b[39;00m\u001b[38;5;21;01m.\u001b[39;00m\u001b[38;5;21;01mdatasets\u001b[39;00m \u001b[38;5;28;01mimport\u001b[39;00m load_breast_cancer\n\u001b[1;32m      4\u001b[0m data \u001b[38;5;241m=\u001b[39m load_breast_cancer()\u001b[38;5;241m.\u001b[39mdata\n",
      "\u001b[0;31mModuleNotFoundError\u001b[0m: No module named 'tpotclustering'"
     ]
    }
   ],
   "source": [
    "from tpotclustering import TPOTClustering\n",
    "from sklearn.datasets import load_breast_cancer\n",
    "\n",
    "data = load_breast_cancer().data\n",
    "scoring = \"silhouette_score\"\n",
    "\n",
    "tpot_clustering = TPOTClustering(generations=5, population_size=10, verbosity=2, random_state=42, scoring=scoring)\n",
    "tpot_clustering.fit(data)\n",
    "print(tpot_clustering.score(data))\n",
    "tpot_clustering.export(f\"tpot_clustering_{scoring}.py\")"
   ]
  }
 ],
 "metadata": {
  "kernelspec": {
   "display_name": "Python 3",
   "language": "python",
   "name": "python3"
  },
  "language_info": {
   "codemirror_mode": {
    "name": "ipython",
    "version": 3
   },
   "file_extension": ".py",
   "mimetype": "text/x-python",
   "name": "python",
   "nbconvert_exporter": "python",
   "pygments_lexer": "ipython3",
   "version": "3.10.12"
  }
 },
 "nbformat": 4,
 "nbformat_minor": 2
}
