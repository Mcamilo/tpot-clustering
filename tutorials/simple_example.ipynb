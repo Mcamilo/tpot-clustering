{
 "cells": [
  {
   "cell_type": "code",
   "execution_count": 1,
   "metadata": {},
   "outputs": [
    {
     "name": "stderr",
     "output_type": "stream",
     "text": [
      "/home/camilo/dev/tpot_clustering_light/tpot/builtins/__init__.py:36: UserWarning: Warning: optional dependency `torch` is not available. - skipping import of NN models.\n",
      "  warnings.warn(\"Warning: optional dependency `torch` is not available. - skipping import of NN models.\")\n"
     ]
    },
    {
     "name": "stdout",
     "output_type": "stream",
     "text": [
      "is_classifier\n",
      "is_regressor\n",
      "is_classifier\n",
      "is_regressor\n",
      "is_classifier\n",
      "is_regressor\n",
      "is_classifier\n",
      "is_regressor\n",
      "is_classifier\n",
      "is_regressor\n",
      "is_classifier\n",
      "is_regressor\n",
      "is_classifier\n",
      "is_regressor\n",
      "is_classifier\n"
     ]
    },
    {
     "name": "stderr",
     "output_type": "stream",
     "text": [
      "/home/camilo/miniconda3/envs/tpot_clustering/lib/python3.10/site-packages/sklearn/base.py:1230: FutureWarning: passing a class to None is deprecated and will be removed in 1.8. Use an instance of the class instead.\n",
      "  warnings.warn(\n",
      "/home/camilo/miniconda3/envs/tpot_clustering/lib/python3.10/site-packages/sklearn/base.py:1270: FutureWarning: passing a class to None is deprecated and will be removed in 1.8. Use an instance of the class instead.\n",
      "  warnings.warn(\n"
     ]
    },
    {
     "name": "stdout",
     "output_type": "stream",
     "text": [
      "is_regressor\n",
      "is_classifier\n",
      "is_regressor\n",
      "is_classifier\n",
      "is_regressor\n",
      "is_classifier\n",
      "is_regressor\n"
     ]
    },
    {
     "name": "stderr",
     "output_type": "stream",
     "text": [
      "Version 0.12.2 of tpot is outdated. Version 1.0.0 was released Wednesday February 26, 2025.\n"
     ]
    },
    {
     "name": "stdout",
     "output_type": "stream",
     "text": [
      "                                                                            \n",
      "Generation 1 - Current best internal CV score: 0.7072801240568757\n",
      "                                                                            \n",
      "Generation 2 - Current best internal CV score: 0.7072801240568757\n",
      "                                                                            \n",
      "Generation 3 - Current best internal CV score: 0.7072801240568757\n",
      "                                                                            \n",
      "Generation 4 - Current best internal CV score: 0.7072801240568757\n",
      "                                                                            \n",
      "Generation 5 - Current best internal CV score: 0.7072801240568757\n",
      "                                                                            \n",
      "Best pipeline: KMeans(input_matrix, init=random, n_clusters=2)\n",
      "0.6972646156059464\n"
     ]
    }
   ],
   "source": [
    "import pandas as pd\n",
    "from tpot import TPOTClustering\n",
    "from sklearn.datasets import load_breast_cancer\n",
    "\n",
    "data = load_breast_cancer().data\n",
    "scoring = \"silhouette_score\"\n",
    "\n",
    "tpot_clustering = TPOTClustering(generations=5, population_size=10, verbosity=2, random_state=42, scoring=scoring)\n",
    "tpot_clustering.fit(data)\n",
    "print(tpot_clustering.score(data))\n",
    "tpot_clustering.export(f\"tpot_clustering_{scoring}.py\")"
   ]
  }
 ],
 "metadata": {
  "kernelspec": {
   "display_name": "tpot_clustering",
   "language": "python",
   "name": "python3"
  },
  "language_info": {
   "codemirror_mode": {
    "name": "ipython",
    "version": 3
   },
   "file_extension": ".py",
   "mimetype": "text/x-python",
   "name": "python",
   "nbconvert_exporter": "python",
   "pygments_lexer": "ipython3",
   "version": "3.10.16"
  }
 },
 "nbformat": 4,
 "nbformat_minor": 2
}
